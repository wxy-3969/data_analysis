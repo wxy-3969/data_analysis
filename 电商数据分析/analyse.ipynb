{
 "cells": [
  {
   "cell_type": "markdown",
   "metadata": {},
   "source": [
    "某电商公司有一个大型销售数据集，存储在 CSV 文件中，\n",
    "文件包含以下列：订单编号、顾客 ID、商品 ID、购买时间、购买数量、商品价格,使用pandas完成以下操作：\n",
    "1.读取CSV文件数据前5行，并将购买时间列转换为合适的日期时间类型('YYYY-MM-DD')。\n",
    "2.计算每个顾客的总消费金额（总消费金额 = 购买数量 * 商品价格）。\n",
    "3.找出消费金额排名前 10 的顾客 ID。\n",
    "4.按月份统计每个商品的销售总量，并将结果输出到一个新的CSV文件中，新文件包含两列：月份，商品ID和销售总量。"
   ]
  },
  {
   "cell_type": "code",
   "execution_count": 12,
   "metadata": {},
   "outputs": [
    {
     "data": {
      "text/html": [
       "<div>\n",
       "<style scoped>\n",
       "    .dataframe tbody tr th:only-of-type {\n",
       "        vertical-align: middle;\n",
       "    }\n",
       "\n",
       "    .dataframe tbody tr th {\n",
       "        vertical-align: top;\n",
       "    }\n",
       "\n",
       "    .dataframe thead th {\n",
       "        text-align: right;\n",
       "    }\n",
       "</style>\n",
       "<table border=\"1\" class=\"dataframe\">\n",
       "  <thead>\n",
       "    <tr style=\"text-align: right;\">\n",
       "      <th></th>\n",
       "      <th>订单编号</th>\n",
       "      <th>顾客ID</th>\n",
       "      <th>商品ID</th>\n",
       "      <th>购买时间</th>\n",
       "      <th>购买数量</th>\n",
       "      <th>商品价格</th>\n",
       "    </tr>\n",
       "  </thead>\n",
       "  <tbody>\n",
       "    <tr>\n",
       "      <th>0</th>\n",
       "      <td>2EIE2G75L0</td>\n",
       "      <td>CUST99889</td>\n",
       "      <td>PROD45853</td>\n",
       "      <td>2024-06-08</td>\n",
       "      <td>10</td>\n",
       "      <td>349.62</td>\n",
       "    </tr>\n",
       "    <tr>\n",
       "      <th>1</th>\n",
       "      <td>FSXD042448</td>\n",
       "      <td>CUST16819</td>\n",
       "      <td>PROD11442</td>\n",
       "      <td>2024-10-11</td>\n",
       "      <td>10</td>\n",
       "      <td>730.88</td>\n",
       "    </tr>\n",
       "    <tr>\n",
       "      <th>2</th>\n",
       "      <td>032FER7V94</td>\n",
       "      <td>CUST35381</td>\n",
       "      <td>PROD38847</td>\n",
       "      <td>2024-08-25</td>\n",
       "      <td>8</td>\n",
       "      <td>777.29</td>\n",
       "    </tr>\n",
       "    <tr>\n",
       "      <th>3</th>\n",
       "      <td>2PIC0V1SXO</td>\n",
       "      <td>CUST07950</td>\n",
       "      <td>PROD41182</td>\n",
       "      <td>2024-05-29</td>\n",
       "      <td>6</td>\n",
       "      <td>737.46</td>\n",
       "    </tr>\n",
       "    <tr>\n",
       "      <th>4</th>\n",
       "      <td>UGGTTDKTN5</td>\n",
       "      <td>CUST17791</td>\n",
       "      <td>PROD82478</td>\n",
       "      <td>2024-07-25</td>\n",
       "      <td>7</td>\n",
       "      <td>162.22</td>\n",
       "    </tr>\n",
       "  </tbody>\n",
       "</table>\n",
       "</div>"
      ],
      "text/plain": [
       "         订单编号       顾客ID       商品ID        购买时间  购买数量    商品价格\n",
       "0  2EIE2G75L0  CUST99889  PROD45853  2024-06-08    10  349.62\n",
       "1  FSXD042448  CUST16819  PROD11442  2024-10-11    10  730.88\n",
       "2  032FER7V94  CUST35381  PROD38847  2024-08-25     8  777.29\n",
       "3  2PIC0V1SXO  CUST07950  PROD41182  2024-05-29     6  737.46\n",
       "4  UGGTTDKTN5  CUST17791  PROD82478  2024-07-25     7  162.22"
      ]
     },
     "metadata": {},
     "output_type": "display_data"
    }
   ],
   "source": [
    "# 1.读取CSV文件数据前5行，并将购买时间列转换为合适的日期时间类型('YYYY-MM-DD')。\n",
    "import pandas as pd\n",
    "df = pd.read_csv(\"data.csv\", encoding='utf-8')\n",
    "df['购买时间'] = pd.to_datetime(df['购买时间'], format='%Y-%m-%d %H:%M:%S')\n",
    "df['购买时间'] = df['购买时间'].dt.strftime('%Y-%m-%d')\n",
    "display(df.head())"
   ]
  },
  {
   "cell_type": "code",
   "execution_count": 13,
   "metadata": {},
   "outputs": [
    {
     "data": {
      "text/plain": [
       "顾客ID\n",
       "CUST00001    3869.74\n",
       "CUST00131     977.70\n",
       "CUST00138    4728.40\n",
       "CUST00183    2751.98\n",
       "CUST00313    1971.40\n",
       "              ...   \n",
       "CUST99823     296.00\n",
       "CUST99842     102.50\n",
       "CUST99889    3496.20\n",
       "CUST99962    2780.70\n",
       "CUST99996     491.92\n",
       "Name: 消费金额, Length: 1976, dtype: float64"
      ]
     },
     "metadata": {},
     "output_type": "display_data"
    }
   ],
   "source": [
    "# 2.计算每个顾客的总消费金额（总消费金额 = 购买数量 * 商品价格）\n",
    "df['消费金额'] = df['购买数量'] * df['商品价格']\n",
    "# 按顾客ID分组并计算消费金额，并将结果保留两位小数\n",
    "result = df.groupby('顾客ID')['消费金额'].sum().round(2)\n",
    "display(result)"
   ]
  },
  {
   "cell_type": "code",
   "execution_count": 14,
   "metadata": {},
   "outputs": [
    {
     "data": {
      "text/plain": [
       "顾客ID\n",
       "CUST59495    9988.90\n",
       "CUST57863    9865.00\n",
       "CUST49913    9844.30\n",
       "CUST14458    9770.30\n",
       "CUST26340    9735.90\n",
       "CUST78477    9684.69\n",
       "CUST13301    9684.00\n",
       "CUST33646    9434.30\n",
       "CUST35992    9427.00\n",
       "CUST94355    9300.93\n",
       "Name: 消费金额, dtype: float64"
      ]
     },
     "metadata": {},
     "output_type": "display_data"
    }
   ],
   "source": [
    "# 3.找出消费金额排名前 10 的顾客 ID。\n",
    "sorted = result.sort_values(ascending=False)\n",
    "sor_top10 = sorted.head(10)\n",
    "display(sor_top10)"
   ]
  },
  {
   "cell_type": "code",
   "execution_count": 15,
   "metadata": {},
   "outputs": [],
   "source": [
    "# 3.按月份统计每个商品的销售总量，并将结果输出到一个新的CSV文件中，新文件包含两列：月份，销售总量。\n",
    "# 重新读取CSV文件\n",
    "data = pd.read_csv(\"data.csv\")\n",
    "# 将购买时间列转换为时间类型\n",
    "data['购买时间'] = pd.to_datetime(data['购买时间'], format='%Y-%m-%d %H:%M:%S')\n",
    "# 新增月份列\n",
    "data['月份'] = data['购买时间'].dt.strftime('%Y-%m')\n",
    "# 按月份统计每个商品的销量，并将结果保存在每月商品总销量中\n",
    "sum_all = data.groupby('月份')['购买数量'].sum().reset_index(name='销售总量')\n",
    "# 将结果输出到一个新的 CSV 文件中\n",
    "output_csv_path = \"output_data.csv\"\n",
    "sum_all.to_csv(output_csv_path, index=False)\n"
   ]
  }
 ],
 "metadata": {
  "kernelspec": {
   "display_name": "Python 3",
   "language": "python",
   "name": "python3"
  },
  "language_info": {
   "codemirror_mode": {
    "name": "ipython",
    "version": 3
   },
   "file_extension": ".py",
   "mimetype": "text/x-python",
   "name": "python",
   "nbconvert_exporter": "python",
   "pygments_lexer": "ipython3",
   "version": "3.8.7"
  }
 },
 "nbformat": 4,
 "nbformat_minor": 2
}
