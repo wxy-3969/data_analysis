{
 "cells": [
  {
   "cell_type": "markdown",
   "metadata": {},
   "source": [
    "某电商公司有一份销售数据文件（sales_data.csv），包含以下列：\n",
    "订单编号、下单日期、商品编号、商品名称、单价、数量、客户编号、客户地区。使用 pandas 完成以下任务：\n",
    "1.读取数据文件，检查数据是否存在缺失值，如果有缺失值，统计每列缺失值的数量。\n",
    "2.按照客户地区对销售数据进行分组，计算每个地区的总销售额（单价×数量），并找出销售额最高的前5个地区。\n",
    "3.筛选出2023年第四季度（假设下单日期格式为 'YYYY-MM-DD'）的订单数据，计算每个商品的平均销售单价和销售总量，然后找出平均销售单价高于100且销售总量超过500的商品信息。"
   ]
  },
  {
   "cell_type": "code",
   "execution_count": null,
   "metadata": {},
   "outputs": [
    {
     "data": {
      "text/plain": [
       "下单日期     2\n",
       "商品编号     1\n",
       "商品名称     0\n",
       "单价      13\n",
       "数量       3\n",
       "客户编号     0\n",
       "客户地区     3\n",
       "dtype: int64"
      ]
     },
     "metadata": {},
     "output_type": "display_data"
    }
   ],
   "source": [
    "# 1.读取数据文件，检查数据是否存在缺失值，如果有缺失值，统计每列缺失值的数量。\n",
    "import pandas as pd\n",
    "data = pd.read_csv('sales_data.csv', index_col=0)\n",
    "display(data.isnull().sum())"
   ]
  },
  {
   "cell_type": "code",
   "execution_count": null,
   "metadata": {},
   "outputs": [
    {
     "name": "stdout",
     "output_type": "stream",
     "text": [
      "客户地区\n",
      "Central    2573146.00\n",
      "East       2282942.09\n",
      "North      2353764.14\n",
      "South      2287221.87\n",
      "West       2761096.62\n",
      "Name: 销售额, dtype: float64\n",
      "销售额最高的前3个地区如下:\n",
      " 客户地区\n",
      "West       2761096.62\n",
      "Central    2573146.00\n",
      "North      2353764.14\n",
      "Name: 销售额, dtype: float64\n"
     ]
    }
   ],
   "source": [
    "# 2.按照客户地区对销售数据进行分组，计算每个地区的总销售额（单价×数量），并找出销售额最高的前3个地区\n",
    "df = pd.read_csv('sales_data.csv')\n",
    "# 按照客户地区对销售数据进行分组，计算每个地区的总销售额（单价×数量）\n",
    "df['销售额'] = df['单价'] * df['数量']\n",
    "result = df.groupby('客户地区').sum()['销售额']\n",
    "print(result)\n",
    "# 找出销售额最高的前3个地区\n",
    "top3 = result.nlargest(3)\n",
    "print(\"销售额最高的前3个地区如下:\\n\", top3)\n"
   ]
  },
  {
   "cell_type": "code",
   "execution_count": 17,
   "metadata": {},
   "outputs": [
    {
     "name": "stdout",
     "output_type": "stream",
     "text": [
      "第四季度的每个商品的平均销售单价和销售总量如下：\n",
      "             商品编号  平均销售单价  销售总量\n",
      "0    PRODUCT_1017  460.41  98.0\n",
      "1    PRODUCT_1062  405.83  35.0\n",
      "2    PRODUCT_1107  285.27  72.0\n",
      "3    PRODUCT_1113  344.90  58.0\n",
      "4    PRODUCT_1276  117.29   0.0\n",
      "..            ...     ...   ...\n",
      "109  PRODUCT_9704  263.67  15.0\n",
      "110  PRODUCT_9752  349.62  68.0\n",
      "111  PRODUCT_9762  232.19  66.0\n",
      "112  PRODUCT_9784   15.96  56.0\n",
      "113  PRODUCT_9823  170.01  70.0\n",
      "\n",
      "[114 rows x 3 columns]\n",
      "平均销售单价大于300且销售总量超过50的商品信息如下：\n",
      "             商品编号  平均销售单价  销售总量\n",
      "0    PRODUCT_1017  460.41  98.0\n",
      "3    PRODUCT_1113  344.90  58.0\n",
      "18   PRODUCT_2369  332.53  58.0\n",
      "24   PRODUCT_3018  340.44  52.0\n",
      "36   PRODUCT_3888  350.72  80.0\n",
      "37   PRODUCT_4182  460.08  86.0\n",
      "39   PRODUCT_4271  453.29  57.0\n",
      "53   PRODUCT_5339  483.11  89.0\n",
      "58   PRODUCT_5591  359.24  90.0\n",
      "71   PRODUCT_6651  382.23  72.0\n",
      "77   PRODUCT_6975  309.14  56.0\n",
      "78   PRODUCT_7088  449.82  69.0\n",
      "81   PRODUCT_7222  351.23  70.0\n",
      "84   PRODUCT_7383  460.12  64.0\n",
      "85   PRODUCT_7428  345.36  85.0\n",
      "88   PRODUCT_7601  371.93  96.0\n",
      "89   PRODUCT_7677  411.20  56.0\n",
      "91   PRODUCT_7721  415.60  84.0\n",
      "93   PRODUCT_7812  485.05  87.0\n",
      "94   PRODUCT_7863  314.85  88.0\n",
      "95   PRODUCT_7961  325.68  76.0\n",
      "105  PRODUCT_9271  401.65  64.0\n",
      "108  PRODUCT_9605  489.44  89.0\n",
      "110  PRODUCT_9752  349.62  68.0\n"
     ]
    }
   ],
   "source": [
    "# 3.筛选出2023年第四季度（假设下单日期格式为 'YYYY-MM-DD'）的订单数据，计算每个商品的平均销售单价和销售总量，\n",
    "# 然后找出平均销售单价高于300且销售总量超过50的商品信息。\n",
    "df = pd.read_csv(\"sales_data.csv\", index_col=0)\n",
    "import datetime\n",
    "# 转换数据类型\n",
    "data['下单日期'] = pd.to_datetime(data['下单日期'])\n",
    "# 筛选出第四季度的数据\n",
    "start_date = pd.Timestamp(datetime.datetime(2023, 10, 1))\n",
    "end_date = pd.Timestamp(datetime.datetime(2023, 12, 31))\n",
    "q4_df = data[(data['下单日期'] >= start_date) & (data['下单日期'] <= end_date)]\n",
    "# 计算每个商品的平均销售单价和销售总量\n",
    "grouped_df = q4_df.groupby('商品编号').agg(平均销售单价=('单价', 'mean'), 销售总量=('数量', 'sum')).reset_index()\n",
    "print('第四季度的每个商品的平均销售单价和销售总量如下：')\n",
    "print(grouped_df)\n",
    "# 筛选出平均销售单价高于100且销售总量超过500的商品\n",
    "high_value_products = grouped_df[(grouped_df['平均销售单价'] > 300) & (grouped_df['销售总量'] > 50)]\n",
    "print('平均销售单价大于300且销售总量超过50的商品信息如下：')\n",
    "print(high_value_products)\n",
    "\n"
   ]
  }
 ],
 "metadata": {
  "kernelspec": {
   "display_name": "Python 3",
   "language": "python",
   "name": "python3"
  },
  "language_info": {
   "codemirror_mode": {
    "name": "ipython",
    "version": 3
   },
   "file_extension": ".py",
   "mimetype": "text/x-python",
   "name": "python",
   "nbconvert_exporter": "python",
   "pygments_lexer": "ipython3",
   "version": "3.8.7"
  }
 },
 "nbformat": 4,
 "nbformat_minor": 2
}
